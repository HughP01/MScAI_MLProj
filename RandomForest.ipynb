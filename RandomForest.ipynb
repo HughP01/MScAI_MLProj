{
 "cells": [
  {
   "cell_type": "code",
   "execution_count": 1,
   "id": "076edfd7-f770-4358-a914-86789853a8a1",
   "metadata": {},
   "outputs": [],
   "source": [
    "import os\n",
    "import numpy as np\n",
    "import pandas as pd\n",
    "import cv2\n",
    "import matplotlib.pyplot as plt\n",
    "import csv\n",
    "import seaborn as sns\n",
    "from skimage.feature import hog\n",
    "from sklearn.ensemble import RandomForestClassifier\n",
    "from sklearn.model_selection import train_test_split\n",
    "from joblib import Parallel, delayed\n",
    "from sklearn.ensemble import RandomForestClassifier\n",
    "from sklearn.metrics import accuracy_score, classification_report, precision_score, recall_score, f1_score\n",
    "import time"
   ]
  },
  {
   "cell_type": "code",
   "execution_count": 2,
   "id": "92ea4aee-b786-469e-b2d3-b510b9eb1283",
   "metadata": {},
   "outputs": [],
   "source": [
    "class_names = {\n",
    "    0: \"Speed limit (20km/h)\", 1: \"Speed limit (30km/h)\", 2: \"Speed limit (50km/h)\",\n",
    "    3: \"Speed limit (60km/h)\", 4: \"Speed limit (70km/h)\", 5: \"Speed limit (80km/h)\",\n",
    "    6: \"End of speed limit (80km/h)\", 7: \"Speed limit (100km/h)\", 8: \"Speed limit (120km/h)\",\n",
    "    9: \"No passing\", 10: \"No passing for vehicles over 3.5 metric tons\",\n",
    "    11: \"Right-of-way at the next intersection\", 12: \"Priority road\", 13: \"Yield\",\n",
    "    14: \"Stop\", 15: \"No vehicles\", 16: \"Vehicles over 3.5 metric tons prohibited\",\n",
    "    17: \"No entry\", 18: \"General caution\", 19: \"Dangerous curve to the left\",\n",
    "    20: \"Dangerous curve to the right\", 21: \"Double curve\", 22: \"Bumpy road\",\n",
    "    23: \"Slippery road\", 24: \"Road narrows on the right\", 25: \"Road work\",\n",
    "    26: \"Traffic signals\", 27: \"Pedestrians\", 28: \"Children crossing\",\n",
    "    29: \"Bicycles crossing\", 30: \"Beware of ice/snow\", 31: \"Wild animals crossing\",\n",
    "    32: \"End of all speed and passing limits\", 33: \"Turn right ahead\",\n",
    "    34: \"Turn left ahead\", 35: \"Ahead only\", 36: \"Go straight or right\",\n",
    "    37: \"Go straight or left\", 38: \"Keep right\", 39: \"Keep left\",\n",
    "    40: \"Roundabout mandatory\", 41: \"End of no passing\",\n",
    "    42: \"End of no passing for vehicles over 3.5 metric tons\"\n",
    "}"
   ]
  },
  {
   "cell_type": "code",
   "execution_count": 3,
   "id": "e21c3e88-2879-4e32-8580-320d55892ac6",
   "metadata": {},
   "outputs": [
    {
     "name": "stdout",
     "output_type": "stream",
     "text": [
      "RGB images: (78418, 32, 32, 3)\n",
      "Grayscale images: (78418, 32, 32)\n",
      "Labels: (78418,)\n"
     ]
    }
   ],
   "source": [
    "augmented_I_RGB = np.load('augmented_I_RGB.npy')      # Shape: (N, 32, 32, 3)\n",
    "augmented_I_Gray = np.load('augmented_I_Gray.npy')    # Shape: (N, 32, 32)\n",
    "augmented_L = np.load('augmented_L.npy')              # Shape: (N,)\n",
    "\n",
    "#Verify shapes\n",
    "print(f\"RGB images: {augmented_I_RGB.shape}\")\n",
    "print(f\"Grayscale images: {augmented_I_Gray.shape}\")\n",
    "print(f\"Labels: {augmented_L.shape}\")"
   ]
  },
  {
   "cell_type": "code",
   "execution_count": 4,
   "id": "feb6f390-1f7d-4950-8d48-fc928576d12d",
   "metadata": {},
   "outputs": [],
   "source": [
    "def extract_hog_features(image):\n",
    "    return hog(image, pixels_per_cell=(4, 4), cells_per_block=(2, 2), visualize=False)\n",
    "\n",
    "X = np.array(Parallel(n_jobs=-1)(delayed(extract_hog_features)(img) for img in augmented_I_Gray))\n",
    "y = augmented_L  "
   ]
  },
  {
   "cell_type": "code",
   "execution_count": 5,
   "id": "d26a1dd6-24b6-4e71-9fde-cf82eeeb1db5",
   "metadata": {},
   "outputs": [
    {
     "name": "stdout",
     "output_type": "stream",
     "text": [
      "\n",
      "=== Evaluation Metrics ===\n",
      "Training Accuracy: 1.0000\n",
      "Test Accuracy: 0.9637\n",
      "Precision: 0.9645\n",
      "Recall: 0.9637\n",
      "F1-Score: 0.9635\n",
      "\n",
      "=== Performance ===\n",
      "Training Time: 86.02 seconds (1.4 minutes)\n",
      "Average Inference Time: 38.40ms per sample\n",
      "\n",
      "=== Classification Report ===\n",
      "                                                     precision    recall  f1-score   support\n",
      "\n",
      "                               Speed limit (20km/h)       1.00      0.75      0.85        67\n",
      "                               Speed limit (30km/h)       0.94      0.91      0.92       872\n",
      "                               Speed limit (50km/h)       0.98      1.00      0.99       830\n",
      "                               Speed limit (60km/h)       0.94      0.98      0.96       572\n",
      "                               Speed limit (70km/h)       1.00      1.00      1.00       825\n",
      "                               Speed limit (80km/h)       0.99      1.00      1.00       890\n",
      "                        End of speed limit (80km/h)       1.00      0.96      0.98       320\n",
      "                              Speed limit (100km/h)       1.00      0.99      0.99       270\n",
      "                              Speed limit (120km/h)       1.00      1.00      1.00       152\n",
      "                                         No passing       1.00      1.00      1.00       466\n",
      "       No passing for vehicles over 3.5 metric tons       0.96      0.98      0.97       465\n",
      "              Right-of-way at the next intersection       1.00      0.97      0.98        91\n",
      "                                      Priority road       0.89      0.94      0.92       920\n",
      "                                              Yield       0.99      0.96      0.98       158\n",
      "                                               Stop       1.00      0.86      0.93       146\n",
      "                                        No vehicles       0.99      0.99      0.99       144\n",
      "           Vehicles over 3.5 metric tons prohibited       0.97      0.97      0.97       207\n",
      "                                           No entry       1.00      0.87      0.93       107\n",
      "                                    General caution       0.93      0.99      0.96       586\n",
      "                        Dangerous curve to the left       0.95      0.95      0.95       240\n",
      "                       Dangerous curve to the right       0.99      0.87      0.92        98\n",
      "                                       Double curve       0.98      0.97      0.97       234\n",
      "                                         Bumpy road       0.98      0.83      0.90       104\n",
      "                                      Slippery road       0.98      0.91      0.94       545\n",
      "                          Road narrows on the right       0.99      0.83      0.90       185\n",
      "                                          Road work       0.95      1.00      0.97       329\n",
      "                                    Traffic signals       0.99      1.00      0.99        86\n",
      "                                        Pedestrians       1.00      1.00      1.00       246\n",
      "                                  Children crossing       1.00      0.98      0.99       178\n",
      "                                  Bicycles crossing       1.00      1.00      1.00       504\n",
      "                                 Beware of ice/snow       1.00      1.00      1.00       134\n",
      "                              Wild animals crossing       1.00      0.99      0.99        84\n",
      "                End of all speed and passing limits       0.99      1.00      1.00       825\n",
      "                                   Turn right ahead       1.00      0.99      1.00       118\n",
      "                                    Turn left ahead       0.97      0.97      0.97       798\n",
      "                                         Ahead only       1.00      0.97      0.99       142\n",
      "                               Go straight or right       0.99      0.99      0.99        96\n",
      "                                Go straight or left       1.00      0.99      0.99        78\n",
      "                                         Keep right       0.86      0.89      0.88       696\n",
      "                                          Keep left       1.00      0.99      0.99       188\n",
      "                               Roundabout mandatory       0.93      0.96      0.94       519\n",
      "                                  End of no passing       0.92      0.92      0.92       596\n",
      "End of no passing for vehicles over 3.5 metric tons       0.99      0.98      0.99       573\n",
      "\n",
      "                                           accuracy                           0.96     15684\n",
      "                                          macro avg       0.98      0.96      0.97     15684\n",
      "                                       weighted avg       0.96      0.96      0.96     15684\n",
      "\n"
     ]
    }
   ],
   "source": [
    "#Split data\n",
    "X_train, X_test, y_train, y_test = train_test_split(X, y, test_size=0.2, random_state=42)\n",
    "\n",
    "#Initialize and train model\n",
    "rf = RandomForestClassifier(n_estimators=400, random_state=42, n_jobs=-1)\n",
    "\n",
    "#Training time measurement\n",
    "start_time = time.time()\n",
    "rf.fit(X_train, y_train)\n",
    "training_time = time.time() - start_time\n",
    "\n",
    "#Inference time measurement (average over 10 runs)\n",
    "inference_times = []\n",
    "for _ in range(10):\n",
    "    start_inf = time.time()\n",
    "    _ = rf.predict(X_test[:1])  \n",
    "    inference_times.append(time.time() - start_inf)\n",
    "avg_inference_time = np.mean(inference_times) * 1000  # in milliseconds\n",
    "\n",
    "#oreds\n",
    "y_pred = rf.predict(X_test)\n",
    "\n",
    "#Calculate metrics\n",
    "train_acc = rf.score(X_train, y_train)\n",
    "test_acc = accuracy_score(y_test, y_pred)\n",
    "precision = precision_score(y_test, y_pred, average='weighted')\n",
    "recall = recall_score(y_test, y_pred, average='weighted')\n",
    "f1 = f1_score(y_test, y_pred, average='weighted')\n",
    "\n",
    "#Print results\n",
    "print(f\"\\n=== Evaluation Metrics ===\")\n",
    "print(f\"Training Accuracy: {train_acc:.4f}\")\n",
    "print(f\"Test Accuracy: {test_acc:.4f}\")\n",
    "print(f\"Precision: {precision:.4f}\")\n",
    "print(f\"Recall: {recall:.4f}\")\n",
    "print(f\"F1-Score: {f1:.4f}\")\n",
    "print(f\"\\n=== Performance ===\")\n",
    "print(f\"Training Time: {training_time:.2f} seconds ({training_time/60:.1f} minutes)\")\n",
    "print(f\"Average Inference Time: {avg_inference_time:.2f}ms per sample\")\n",
    "\n",
    "#Detailed classification report\n",
    "print(\"\\n=== Classification Report ===\")\n",
    "print(classification_report(y_test, y_pred, target_names=[class_names[i] for i in sorted(class_names.keys())]))"
   ]
  },
  {
   "cell_type": "code",
   "execution_count": 6,
   "id": "10d2d632-7833-4225-ba0f-7f4e51612d08",
   "metadata": {},
   "outputs": [
    {
     "name": "stderr",
     "output_type": "stream",
     "text": [
      "[codecarbon WARNING @ 10:11:00] Multiple instances of codecarbon are allowed to run at the same time.\n",
      "[codecarbon INFO @ 10:11:00] [setup] RAM Tracking...\n",
      "[codecarbon INFO @ 10:11:00] [setup] CPU Tracking...\n",
      "[codecarbon WARNING @ 10:11:02] No CPU tracking mode found. Falling back on estimation based on TDP for CPU. \n",
      " Windows OS detected: Please install Intel Power Gadget to measure CPU\n",
      "\n",
      "[codecarbon INFO @ 10:11:02] CPU Model on constant consumption mode: AMD Ryzen 9 5900XT 16-Core Processor\n",
      "[codecarbon WARNING @ 10:11:02] No CPU tracking mode found. Falling back on CPU constant mode.\n",
      "[codecarbon INFO @ 10:11:02] [setup] GPU Tracking...\n",
      "[codecarbon INFO @ 10:11:02] Tracking Nvidia GPU via pynvml\n",
      "[codecarbon INFO @ 10:11:02] The below tracking methods have been set up:\n",
      "                RAM Tracking Method: RAM power estimation model\n",
      "                CPU Tracking Method: global constant\n",
      "                GPU Tracking Method: pynvml\n",
      "            \n",
      "[codecarbon INFO @ 10:11:02] >>> Tracker's metadata:\n",
      "[codecarbon INFO @ 10:11:02]   Platform system: Windows-10-10.0.19045-SP0\n",
      "[codecarbon INFO @ 10:11:02]   Python version: 3.12.3\n",
      "[codecarbon INFO @ 10:11:02]   CodeCarbon version: 3.0.4\n",
      "[codecarbon INFO @ 10:11:02]   Available RAM : 63.927 GB\n",
      "[codecarbon INFO @ 10:11:02]   CPU count: 32 thread(s) in 32 physical CPU(s)\n",
      "[codecarbon INFO @ 10:11:02]   CPU model: AMD Ryzen 9 5900XT 16-Core Processor\n",
      "[codecarbon INFO @ 10:11:02]   GPU count: 1\n",
      "[codecarbon INFO @ 10:11:02]   GPU model: 1 x NVIDIA GeForce RTX 4060 Ti\n",
      "[codecarbon INFO @ 10:11:05] Emissions data (if any) will be saved to file E:\\Emerging AI Tech and Sustainability\\emissions.csv\n",
      "[codecarbon INFO @ 10:11:06] Energy consumed for RAM : 0.000004 kWh. RAM Power : 20.0 W\n",
      "[codecarbon INFO @ 10:11:06] Delta energy consumed for CPU with constant : 0.000306 kWh, power : 1680.0 W\n",
      "[codecarbon INFO @ 10:11:06] Energy consumed for All CPU : 0.000306 kWh\n",
      "[codecarbon INFO @ 10:11:06] Energy consumed for all GPUs : 0.000001 kWh. Total GPU Power : 6.628539132402975 W\n",
      "[codecarbon INFO @ 10:11:06] 0.000311 kWh of electricity used since the beginning.\n"
     ]
    },
    {
     "name": "stdout",
     "output_type": "stream",
     "text": [
      "Emissions for Random Forest: 9.045205404407192e-05 kg CO2\n"
     ]
    }
   ],
   "source": [
    "from codecarbon import EmissionsTracker\n",
    "tracker = EmissionsTracker()\n",
    "tracker.start()\n",
    "rf.predict(X_test)\n",
    "emissions_RF = tracker.stop()\n",
    "print(f\"Emissions for Random Forest: {emissions_RF} kg CO2\")"
   ]
  }
 ],
 "metadata": {
  "kernelspec": {
   "display_name": "Python 3 (ipykernel)",
   "language": "python",
   "name": "python3"
  },
  "language_info": {
   "codemirror_mode": {
    "name": "ipython",
    "version": 3
   },
   "file_extension": ".py",
   "mimetype": "text/x-python",
   "name": "python",
   "nbconvert_exporter": "python",
   "pygments_lexer": "ipython3",
   "version": "3.12.3"
  }
 },
 "nbformat": 4,
 "nbformat_minor": 5
}
