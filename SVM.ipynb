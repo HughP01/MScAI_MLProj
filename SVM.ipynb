{
 "cells": [
  {
   "cell_type": "code",
   "execution_count": 1,
   "id": "dcb07ada-ed96-4ce1-95fa-6a011b88dce9",
   "metadata": {},
   "outputs": [],
   "source": [
    "import os\n",
    "import numpy as np\n",
    "import pandas as pd\n",
    "import cv2\n",
    "import matplotlib.pyplot as plt\n",
    "import csv\n",
    "import seaborn as sns\n",
    "from skimage.feature import hog\n",
    "from sklearn.ensemble import RandomForestClassifier\n",
    "from sklearn.model_selection import train_test_split\n",
    "from joblib import Parallel, delayed\n",
    "from sklearn.ensemble import RandomForestClassifier\n",
    "from sklearn.metrics import (accuracy_score, classification_report, confusion_matrix, ConfusionMatrixDisplay)\n",
    "import time\n",
    "from sklearn.svm import SVC\n",
    "from sklearn.preprocessing import StandardScaler\n",
    "import torch\n",
    "from sklearn.svm import SVC"
   ]
  },
  {
   "cell_type": "code",
   "execution_count": 2,
   "id": "0297658d-b981-4de7-87b6-28f01ff60fad",
   "metadata": {},
   "outputs": [],
   "source": [
    "class_names = {\n",
    "    0: \"Speed limit (20km/h)\", 1: \"Speed limit (30km/h)\", 2: \"Speed limit (50km/h)\",\n",
    "    3: \"Speed limit (60km/h)\", 4: \"Speed limit (70km/h)\", 5: \"Speed limit (80km/h)\",\n",
    "    6: \"End of speed limit (80km/h)\", 7: \"Speed limit (100km/h)\", 8: \"Speed limit (120km/h)\",\n",
    "    9: \"No passing\", 10: \"No passing for vehicles over 3.5 metric tons\",\n",
    "    11: \"Right-of-way at the next intersection\", 12: \"Priority road\", 13: \"Yield\",\n",
    "    14: \"Stop\", 15: \"No vehicles\", 16: \"Vehicles over 3.5 metric tons prohibited\",\n",
    "    17: \"No entry\", 18: \"General caution\", 19: \"Dangerous curve to the left\",\n",
    "    20: \"Dangerous curve to the right\", 21: \"Double curve\", 22: \"Bumpy road\",\n",
    "    23: \"Slippery road\", 24: \"Road narrows on the right\", 25: \"Road work\",\n",
    "    26: \"Traffic signals\", 27: \"Pedestrians\", 28: \"Children crossing\",\n",
    "    29: \"Bicycles crossing\", 30: \"Beware of ice/snow\", 31: \"Wild animals crossing\",\n",
    "    32: \"End of all speed and passing limits\", 33: \"Turn right ahead\",\n",
    "    34: \"Turn left ahead\", 35: \"Ahead only\", 36: \"Go straight or right\",\n",
    "    37: \"Go straight or left\", 38: \"Keep right\", 39: \"Keep left\",\n",
    "    40: \"Roundabout mandatory\", 41: \"End of no passing\",\n",
    "    42: \"End of no passing for vehicles over 3.5 metric tons\"\n",
    "}"
   ]
  },
  {
   "cell_type": "code",
   "execution_count": 3,
   "id": "f48f51d9-0ecb-459c-b75d-3477f2ff1985",
   "metadata": {},
   "outputs": [
    {
     "name": "stdout",
     "output_type": "stream",
     "text": [
      "RGB images: (78418, 32, 32, 3)\n",
      "Grayscale images: (78418, 32, 32)\n",
      "Labels: (78418,)\n"
     ]
    }
   ],
   "source": [
    "augmented_I_RGB = np.load('augmented_I_RGB.npy')      # Shape: (N, 32, 32, 3)\n",
    "augmented_I_Gray = np.load('augmented_I_Gray.npy')    # Shape: (N, 32, 32)\n",
    "augmented_L = np.load('augmented_L.npy')              # Shape: (N,)\n",
    "\n",
    "#Verify shapes\n",
    "print(f\"RGB images: {augmented_I_RGB.shape}\")\n",
    "print(f\"Grayscale images: {augmented_I_Gray.shape}\")\n",
    "print(f\"Labels: {augmented_L.shape}\")"
   ]
  },
  {
   "cell_type": "code",
   "execution_count": 4,
   "id": "9b9d00fc-791a-4597-bce7-ba4229f23294",
   "metadata": {},
   "outputs": [],
   "source": [
    "def extract_hog_features(image):\n",
    "    return hog(image, pixels_per_cell=(4, 4), cells_per_block=(2, 2), visualize=False)\n",
    "\n",
    "X = np.array(Parallel(n_jobs=-1)(delayed(extract_hog_features)(img) for img in augmented_I_Gray))\n",
    "y = augmented_L  "
   ]
  },
  {
   "cell_type": "code",
   "execution_count": 5,
   "id": "51b774e9-38d2-42c5-afcc-1d2346a1c454",
   "metadata": {},
   "outputs": [],
   "source": [
    "X_train, X_test, y_train, y_test = train_test_split(X, y,test_size=0.2,random_state=42,stratify=y)\n",
    "\n",
    "scaler = StandardScaler()\n",
    "X_train_scaled = scaler.fit_transform(X_train)\n",
    "X_test_scaled = scaler.transform(X_test)"
   ]
  },
  {
   "cell_type": "code",
   "execution_count": 10,
   "id": "8787de18-a964-4e55-8a3e-a83a542358d4",
   "metadata": {},
   "outputs": [
    {
     "name": "stdout",
     "output_type": "stream",
     "text": [
      "Starting training on 62734 samples...\n",
      "[LibSVM]\n",
      "=== Results ===\n",
      "Training time: 53.9 minutes\n",
      "Test accuracy: 0.9934\n",
      "Support vectors: 37308\n"
     ]
    }
   ],
   "source": [
    "#https://www.researchgate.net/publication/344399165_Traffic_Sign_Recognition_System_TSRS_SVM_and_Convolutional_Neural_Network\n",
    "import os\n",
    "os.environ['OMP_NUM_THREADS'] = '32'  # Use all 32 threads\n",
    "os.environ['MKL_NUM_THREADS'] = '32'\n",
    "os.environ['OPENBLAS_NUM_THREADS'] = '32'\n",
    "\n",
    "svm = SVC(\n",
    "    kernel='rbf',\n",
    "    C=10,\n",
    "    gamma='scale',\n",
    "    class_weight='balanced',\n",
    "    decision_function_shape='ovr',\n",
    "    random_state=42,\n",
    "    verbose=2,               \n",
    "    cache_size=40000,        #40GB RAM cache\n",
    "    max_iter=-1,             #No limit\n",
    "    tol=1e-3,               #Slightly looser tolerance for speed\n",
    "    shrinking=True          \n",
    ")\n",
    "\n",
    "\n",
    "print(f\"Starting training on {len(X_train_scaled)} samples...\")\n",
    "start_time = time.time()\n",
    "svm.fit(X_train_scaled, y_train)\n",
    "training_time = time.time() - start_time\n",
    "\n",
    "# Evaluate\n",
    "y_pred = svm.predict(X_test_scaled)\n",
    "accuracy = accuracy_score(y_test, y_pred)\n",
    "\n",
    "print(f\"\\n=== Results ===\")\n",
    "print(f\"Training time: {training_time/60:.1f} minutes\")\n",
    "print(f\"Test accuracy: {accuracy:.4f}\")\n",
    "print(f\"Support vectors: {len(svm.support_vectors_)}\")"
   ]
  },
  {
   "cell_type": "markdown",
   "id": "a0d04dec-4a32-47ef-9838-4aa3e6d53e2a",
   "metadata": {},
   "source": [
    "# Using GPU"
   ]
  },
  {
   "cell_type": "code",
   "execution_count": 9,
   "id": "b39c5b51-edaf-42ab-b10c-1f1c303ab4ea",
   "metadata": {},
   "outputs": [
    {
     "ename": "FileNotFoundError",
     "evalue": "Please build the library first!",
     "output_type": "error",
     "traceback": [
      "\u001b[1;31m---------------------------------------------------------------------------\u001b[0m",
      "\u001b[1;31mFileNotFoundError\u001b[0m                         Traceback (most recent call last)",
      "Cell \u001b[1;32mIn[9], line 1\u001b[0m\n\u001b[1;32m----> 1\u001b[0m \u001b[38;5;28;01mfrom\u001b[39;00m \u001b[38;5;21;01mthundersvm\u001b[39;00m \u001b[38;5;28;01mimport\u001b[39;00m SVC  \u001b[38;5;66;03m# Uses GPU instead of CPU\u001b[39;00m\n\u001b[0;32m      3\u001b[0m \u001b[38;5;66;03m# Convert data to numpy (no need for PyTorch in this case)\u001b[39;00m\n\u001b[0;32m      4\u001b[0m X_train_np \u001b[38;5;241m=\u001b[39m X_train_scaled\u001b[38;5;241m.\u001b[39mastype(\u001b[38;5;124m'\u001b[39m\u001b[38;5;124mfloat32\u001b[39m\u001b[38;5;124m'\u001b[39m)\n",
      "File \u001b[1;32mE:\\Python\\Lib\\site-packages\\thundersvm\\__init__.py:10\u001b[0m\n\u001b[0;32m      3\u001b[0m \u001b[38;5;124;03m\"\"\"\u001b[39;00m\n\u001b[0;32m      4\u001b[0m \u001b[38;5;124;03m * Name        : __init__.py\u001b[39;00m\n\u001b[0;32m      5\u001b[0m \u001b[38;5;124;03m * Author      : Locke <luojiahuan001@gmail.com>\u001b[39;00m\n\u001b[0;32m      6\u001b[0m \u001b[38;5;124;03m * Version     : 0.0.1\u001b[39;00m\n\u001b[0;32m      7\u001b[0m \u001b[38;5;124;03m * Description :\u001b[39;00m\n\u001b[0;32m      8\u001b[0m \u001b[38;5;124;03m\"\"\"\u001b[39;00m\n\u001b[0;32m      9\u001b[0m name \u001b[38;5;241m=\u001b[39m \u001b[38;5;124m\"\u001b[39m\u001b[38;5;124mthundersvm\u001b[39m\u001b[38;5;124m\"\u001b[39m\n\u001b[1;32m---> 10\u001b[0m \u001b[38;5;28;01mfrom\u001b[39;00m \u001b[38;5;21;01m.\u001b[39;00m\u001b[38;5;21;01mthundersvm\u001b[39;00m \u001b[38;5;28;01mimport\u001b[39;00m \u001b[38;5;241m*\u001b[39m\n",
      "File \u001b[1;32mE:\\Python\\Lib\\site-packages\\thundersvm\\thundersvm.py:52\u001b[0m\n\u001b[0;32m     50\u001b[0m         thundersvm \u001b[38;5;241m=\u001b[39m CDLL(lib_path)\n\u001b[0;32m     51\u001b[0m     \u001b[38;5;28;01melse\u001b[39;00m:\n\u001b[1;32m---> 52\u001b[0m         \u001b[38;5;28;01mraise\u001b[39;00m \u001b[38;5;167;01mFileNotFoundError\u001b[39;00m(\u001b[38;5;124m\"\u001b[39m\u001b[38;5;124mPlease build the library first!\u001b[39m\u001b[38;5;124m\"\u001b[39m)\n\u001b[0;32m     53\u001b[0m SVM_TYPE \u001b[38;5;241m=\u001b[39m [\u001b[38;5;124m'\u001b[39m\u001b[38;5;124mc_svc\u001b[39m\u001b[38;5;124m'\u001b[39m, \u001b[38;5;124m'\u001b[39m\u001b[38;5;124mnu_svc\u001b[39m\u001b[38;5;124m'\u001b[39m, \u001b[38;5;124m'\u001b[39m\u001b[38;5;124mone_class\u001b[39m\u001b[38;5;124m'\u001b[39m, \u001b[38;5;124m'\u001b[39m\u001b[38;5;124mepsilon_svr\u001b[39m\u001b[38;5;124m'\u001b[39m, \u001b[38;5;124m'\u001b[39m\u001b[38;5;124mnu_svr\u001b[39m\u001b[38;5;124m'\u001b[39m]\n\u001b[0;32m     54\u001b[0m KERNEL_TYPE \u001b[38;5;241m=\u001b[39m [\u001b[38;5;124m'\u001b[39m\u001b[38;5;124mlinear\u001b[39m\u001b[38;5;124m'\u001b[39m, \u001b[38;5;124m'\u001b[39m\u001b[38;5;124mpolynomial\u001b[39m\u001b[38;5;124m'\u001b[39m, \u001b[38;5;124m'\u001b[39m\u001b[38;5;124mrbf\u001b[39m\u001b[38;5;124m'\u001b[39m, \u001b[38;5;124m'\u001b[39m\u001b[38;5;124msigmoid\u001b[39m\u001b[38;5;124m'\u001b[39m, \u001b[38;5;124m'\u001b[39m\u001b[38;5;124mprecomputed\u001b[39m\u001b[38;5;124m'\u001b[39m]\n",
      "\u001b[1;31mFileNotFoundError\u001b[0m: Please build the library first!"
     ]
    }
   ],
   "source": [
    "from thundersvm import SVC  # Uses GPU instead of CPU\n",
    "\n",
    "# Convert data to numpy (no need for PyTorch in this case)\n",
    "X_train_np = X_train_scaled.astype('float32')\n",
    "y_train_np = y_train.astype('int32')  # Ensure labels are integers\n",
    "\n",
    "# Train SVM on GPU\n",
    "svm = SVC(kernel='rbf', C=10, gamma='scale')\n",
    "start_time = time.time()\n",
    "svm.fit(X_train_np, y_train_np)  # Runs on GPU!\n",
    "training_time = time.time() - start_time\n",
    "print(f\"Training time (GPU): {training_time:.2f}s\")"
   ]
  },
  {
   "cell_type": "code",
   "execution_count": 6,
   "id": "e370fc5b-cb19-4f81-8ccf-a911196d3816",
   "metadata": {},
   "outputs": [
    {
     "name": "stdout",
     "output_type": "stream",
     "text": [
      "Using device: cuda\n"
     ]
    }
   ],
   "source": [
    "device = torch.device('cuda' if torch.cuda.is_available() else 'cpu')\n",
    "print(f\"Using device: {device}\")"
   ]
  }
 ],
 "metadata": {
  "kernelspec": {
   "display_name": "Python 3 (ipykernel)",
   "language": "python",
   "name": "python3"
  },
  "language_info": {
   "codemirror_mode": {
    "name": "ipython",
    "version": 3
   },
   "file_extension": ".py",
   "mimetype": "text/x-python",
   "name": "python",
   "nbconvert_exporter": "python",
   "pygments_lexer": "ipython3",
   "version": "3.12.7"
  }
 },
 "nbformat": 4,
 "nbformat_minor": 5
}
