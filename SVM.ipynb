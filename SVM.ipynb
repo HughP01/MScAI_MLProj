{
 "cells": [
  {
   "cell_type": "code",
   "execution_count": 1,
   "id": "dcb07ada-ed96-4ce1-95fa-6a011b88dce9",
   "metadata": {},
   "outputs": [],
   "source": [
    "import os\n",
    "import numpy as np\n",
    "import pandas as pd\n",
    "import cv2\n",
    "import matplotlib.pyplot as plt\n",
    "import csv\n",
    "import seaborn as sns\n",
    "from skimage.feature import hog\n",
    "from sklearn.ensemble import RandomForestClassifier\n",
    "from sklearn.model_selection import train_test_split\n",
    "from joblib import Parallel, delayed\n",
    "from sklearn.ensemble import RandomForestClassifier\n",
    "from sklearn.metrics import (accuracy_score, classification_report, confusion_matrix, ConfusionMatrixDisplay)\n",
    "import time\n",
    "from sklearn.svm import SVC\n",
    "from sklearn.preprocessing import StandardScaler\n",
    "import torch\n",
    "from sklearn.svm import SVC"
   ]
  },
  {
   "cell_type": "code",
   "execution_count": 2,
   "id": "0297658d-b981-4de7-87b6-28f01ff60fad",
   "metadata": {},
   "outputs": [],
   "source": [
    "class_names = {\n",
    "    0: \"Speed limit (20km/h)\", 1: \"Speed limit (30km/h)\", 2: \"Speed limit (50km/h)\",\n",
    "    3: \"Speed limit (60km/h)\", 4: \"Speed limit (70km/h)\", 5: \"Speed limit (80km/h)\",\n",
    "    6: \"End of speed limit (80km/h)\", 7: \"Speed limit (100km/h)\", 8: \"Speed limit (120km/h)\",\n",
    "    9: \"No passing\", 10: \"No passing for vehicles over 3.5 metric tons\",\n",
    "    11: \"Right-of-way at the next intersection\", 12: \"Priority road\", 13: \"Yield\",\n",
    "    14: \"Stop\", 15: \"No vehicles\", 16: \"Vehicles over 3.5 metric tons prohibited\",\n",
    "    17: \"No entry\", 18: \"General caution\", 19: \"Dangerous curve to the left\",\n",
    "    20: \"Dangerous curve to the right\", 21: \"Double curve\", 22: \"Bumpy road\",\n",
    "    23: \"Slippery road\", 24: \"Road narrows on the right\", 25: \"Road work\",\n",
    "    26: \"Traffic signals\", 27: \"Pedestrians\", 28: \"Children crossing\",\n",
    "    29: \"Bicycles crossing\", 30: \"Beware of ice/snow\", 31: \"Wild animals crossing\",\n",
    "    32: \"End of all speed and passing limits\", 33: \"Turn right ahead\",\n",
    "    34: \"Turn left ahead\", 35: \"Ahead only\", 36: \"Go straight or right\",\n",
    "    37: \"Go straight or left\", 38: \"Keep right\", 39: \"Keep left\",\n",
    "    40: \"Roundabout mandatory\", 41: \"End of no passing\",\n",
    "    42: \"End of no passing for vehicles over 3.5 metric tons\"\n",
    "}"
   ]
  },
  {
   "cell_type": "code",
   "execution_count": 3,
   "id": "f48f51d9-0ecb-459c-b75d-3477f2ff1985",
   "metadata": {},
   "outputs": [
    {
     "name": "stdout",
     "output_type": "stream",
     "text": [
      "RGB images: (78418, 32, 32, 3)\n",
      "Grayscale images: (78418, 32, 32)\n",
      "Labels: (78418,)\n"
     ]
    }
   ],
   "source": [
    "augmented_I_RGB = np.load('augmented_I_RGB.npy')      #Shape: (N, 32, 32, 3)\n",
    "augmented_I_Gray = np.load('augmented_I_Gray.npy')    #Shape: (N, 32, 32)\n",
    "augmented_L = np.load('augmented_L.npy')              #shape: (N,)\n",
    "\n",
    "#Verify shapes\n",
    "print(f\"RGB images: {augmented_I_RGB.shape}\")\n",
    "print(f\"Grayscale images: {augmented_I_Gray.shape}\")\n",
    "print(f\"Labels: {augmented_L.shape}\")"
   ]
  },
  {
   "cell_type": "code",
   "execution_count": 4,
   "id": "9b9d00fc-791a-4597-bce7-ba4229f23294",
   "metadata": {},
   "outputs": [],
   "source": [
    "def extract_hog_features(image):\n",
    "    return hog(image, pixels_per_cell=(4, 4), cells_per_block=(2, 2), visualize=False)\n",
    "\n",
    "X = np.array(Parallel(n_jobs=-1)(delayed(extract_hog_features)(img) for img in augmented_I_Gray))\n",
    "y = augmented_L  "
   ]
  },
  {
   "cell_type": "code",
   "execution_count": 5,
   "id": "51b774e9-38d2-42c5-afcc-1d2346a1c454",
   "metadata": {},
   "outputs": [],
   "source": [
    "X_train, X_test, y_train, y_test = train_test_split(X, y,test_size=0.2,random_state=42,stratify=y)\n",
    "\n",
    "scaler = StandardScaler()\n",
    "X_train_scaled = scaler.fit_transform(X_train)\n",
    "X_test_scaled = scaler.transform(X_test)"
   ]
  },
  {
   "cell_type": "markdown",
   "id": "397f4a5f-85bd-48c7-96b0-335e246c02a4",
   "metadata": {},
   "source": [
    "### USING CPU"
   ]
  },
  {
   "cell_type": "code",
   "execution_count": 6,
   "id": "5bce0eb2-9e77-479a-9db3-c9ee5160224b",
   "metadata": {},
   "outputs": [
    {
     "name": "stdout",
     "output_type": "stream",
     "text": [
      "Starting training on 62734 samples...\n",
      "[LibSVM]"
     ]
    },
    {
     "name": "stderr",
     "output_type": "stream",
     "text": [
      "E:\\Python\\Lib\\site-packages\\sklearn\\svm\\_base.py:297: ConvergenceWarning: Solver terminated early (max_iter=10).  Consider pre-processing your data with StandardScaler or MinMaxScaler.\n",
      "  warnings.warn(\n"
     ]
    },
    {
     "name": "stdout",
     "output_type": "stream",
     "text": [
      "Training time: 1.3 minutes\n",
      "\n",
      "=== Results ===\n",
      "Training Accuracy: 0.8519\n",
      "Test Accuracy: 0.8472\n",
      "Precision: 0.8583\n",
      "Recall: 0.8472\n",
      "F1-Score: 0.8449\n",
      "Support vectors: 7637\n"
     ]
    }
   ],
   "source": [
    "#https://www.researchgate.net/publication/344399165_Traffic_Sign_Recognition_System_TSRS_SVM_and_Convolutional_Neural_Network\n",
    "import os\n",
    "from sklearn.svm import SVC\n",
    "from sklearn.metrics import accuracy_score, precision_score, recall_score, f1_score\n",
    "import time\n",
    "\n",
    "os.environ['OMP_NUM_THREADS'] = '16'  #Use all 32 threads\n",
    "os.environ['MKL_NUM_THREADS'] = '16'\n",
    "os.environ['OPENBLAS_NUM_THREADS'] = '16'\n",
    "\n",
    "svm = SVC(\n",
    "    kernel='rbf',\n",
    "    C=10,\n",
    "    gamma='scale',\n",
    "    class_weight='balanced',\n",
    "    decision_function_shape='ovr',\n",
    "    random_state=42,\n",
    "    verbose=2,               \n",
    "    cache_size=10000,        #10GB RAM cache\n",
    "    max_iter=10,             #lim\n",
    "    tol=1e-3,               \n",
    "    shrinking=True          \n",
    ")\n",
    "\n",
    "print(f\"Starting training on {len(X_train_scaled)} samples...\")\n",
    "start_time = time.time()\n",
    "svm.fit(X_train_scaled, y_train)\n",
    "training_time = time.time() - start_time\n",
    "print(f\"Training time: {training_time/60:.1f} minutes\")\n",
    "#Predictions\n",
    "y_train_pred = svm.predict(X_train_scaled)  #For training accuracy\n",
    "y_test_pred = svm.predict(X_test_scaled)    #For test accuracy\n",
    "\n",
    "#Calculate our eval metrics\n",
    "train_accuracy = accuracy_score(y_train, y_train_pred)\n",
    "test_accuracy = accuracy_score(y_test, y_test_pred)\n",
    "precision = precision_score(y_test, y_test_pred, average='weighted')\n",
    "recall = recall_score(y_test, y_test_pred, average='weighted')\n",
    "f1 = f1_score(y_test, y_test_pred, average='weighted')\n",
    "\n",
    "print(f\"\\n=== Results ===\")\n",
    "print(f\"Training Accuracy: {train_accuracy:.4f}\")\n",
    "print(f\"Test Accuracy: {test_accuracy:.4f}\")\n",
    "print(f\"Precision: {precision:.4f}\")\n",
    "print(f\"Recall: {recall:.4f}\")\n",
    "print(f\"F1-Score: {f1:.4f}\")\n",
    "print(f\"Support vectors: {len(svm.support_vectors_)}\")"
   ]
  },
  {
   "cell_type": "code",
   "execution_count": 7,
   "id": "69825ea6-7c00-4ab0-9e43-66d1562c0e12",
   "metadata": {},
   "outputs": [
    {
     "name": "stdout",
     "output_type": "stream",
     "text": [
      "Average Inference Time: 13.28ms per sample\n"
     ]
    }
   ],
   "source": [
    "inference_times = []\n",
    "for _ in range(10):\n",
    "    start_inf = time.time()\n",
    "    _ = svm.predict(X_test_scaled[:1]) \n",
    "    inference_times.append(time.time() - start_inf)\n",
    "avg_inference_time = np.mean(inference_times) * 1000  # in milli-seconds\n",
    "print(f\"Average Inference Time: {avg_inference_time:.2f}ms per sample\")"
   ]
  },
  {
   "cell_type": "code",
   "execution_count": 10,
   "id": "9f1b36c9-e0c5-4500-ad8a-1eb52b7f34c7",
   "metadata": {},
   "outputs": [
    {
     "name": "stderr",
     "output_type": "stream",
     "text": [
      "[codecarbon WARNING @ 16:05:40] Multiple instances of codecarbon are allowed to run at the same time.\n",
      "[codecarbon INFO @ 16:05:40] [setup] RAM Tracking...\n",
      "[codecarbon INFO @ 16:05:40] [setup] CPU Tracking...\n",
      "[codecarbon WARNING @ 16:05:41] No CPU tracking mode found. Falling back on estimation based on TDP for CPU. \n",
      " Windows OS detected: Please install Intel Power Gadget to measure CPU\n",
      "\n",
      "[codecarbon INFO @ 16:05:41] CPU Model on constant consumption mode: AMD Ryzen 9 5900XT 16-Core Processor\n",
      "[codecarbon WARNING @ 16:05:41] No CPU tracking mode found. Falling back on CPU constant mode.\n",
      "[codecarbon INFO @ 16:05:41] [setup] GPU Tracking...\n",
      "[codecarbon INFO @ 16:05:41] Tracking Nvidia GPU via pynvml\n",
      "[codecarbon INFO @ 16:05:41] The below tracking methods have been set up:\n",
      "                RAM Tracking Method: RAM power estimation model\n",
      "                CPU Tracking Method: global constant\n",
      "                GPU Tracking Method: pynvml\n",
      "            \n",
      "[codecarbon INFO @ 16:05:41] >>> Tracker's metadata:\n",
      "[codecarbon INFO @ 16:05:41]   Platform system: Windows-10-10.0.19045-SP0\n",
      "[codecarbon INFO @ 16:05:41]   Python version: 3.12.3\n",
      "[codecarbon INFO @ 16:05:41]   CodeCarbon version: 3.0.4\n",
      "[codecarbon INFO @ 16:05:41]   Available RAM : 63.927 GB\n",
      "[codecarbon INFO @ 16:05:41]   CPU count: 32 thread(s) in 32 physical CPU(s)\n",
      "[codecarbon INFO @ 16:05:41]   CPU model: AMD Ryzen 9 5900XT 16-Core Processor\n",
      "[codecarbon INFO @ 16:05:41]   GPU count: 1\n",
      "[codecarbon INFO @ 16:05:41]   GPU model: 1 x NVIDIA GeForce RTX 4060 Ti\n",
      "[codecarbon INFO @ 16:05:42] Energy consumed for RAM : 0.000584 kWh. RAM Power : 20.0 W\n",
      "[codecarbon INFO @ 16:05:42] Delta energy consumed for CPU with constant : 0.007008 kWh, power : 1680.0 W\n",
      "[codecarbon INFO @ 16:05:42] Energy consumed for All CPU : 0.049032 kWh\n",
      "[codecarbon INFO @ 16:05:42] Energy consumed for all GPUs : 0.000165 kWh. Total GPU Power : 5.466858136616996 W\n",
      "[codecarbon INFO @ 16:05:42] 0.049780 kWh of electricity used since the beginning.\n",
      "[codecarbon INFO @ 16:05:44] Energy consumed for RAM : 0.000167 kWh. RAM Power : 20.0 W\n",
      "[codecarbon INFO @ 16:05:44] Delta energy consumed for CPU with constant : 0.007001 kWh, power : 1680.0 W\n",
      "[codecarbon INFO @ 16:05:44] Energy consumed for All CPU : 0.014007 kWh\n",
      "[codecarbon INFO @ 16:05:44] Energy consumed for all GPUs : 0.000045 kWh. Total GPU Power : 5.392370973711067 W\n",
      "[codecarbon INFO @ 16:05:44] 0.014219 kWh of electricity used since the beginning.\n",
      "[codecarbon INFO @ 16:05:44] Emissions data (if any) will be saved to file E:\\Emerging AI Tech and Sustainability\\emissions.csv\n",
      "[codecarbon INFO @ 16:05:44] Energy consumed for RAM : 0.000000 kWh. RAM Power : 20.0 W\n",
      "[codecarbon INFO @ 16:05:44] Delta energy consumed for CPU with constant : 0.000012 kWh, power : 1680.0 W\n",
      "[codecarbon INFO @ 16:05:44] Energy consumed for All CPU : 0.000012 kWh\n",
      "[codecarbon INFO @ 16:05:44] Energy consumed for all GPUs : 0.000000 kWh. Total GPU Power : 0.0 W\n",
      "[codecarbon INFO @ 16:05:44] 0.000012 kWh of electricity used since the beginning.\n"
     ]
    },
    {
     "name": "stdout",
     "output_type": "stream",
     "text": [
      "Emissions for Random Forest: 3.4702098304004362e-06 kg CO2\n"
     ]
    },
    {
     "name": "stderr",
     "output_type": "stream",
     "text": [
      "[codecarbon INFO @ 16:05:57] Energy consumed for RAM : 0.000667 kWh. RAM Power : 20.0 W\n",
      "[codecarbon INFO @ 16:05:57] Delta energy consumed for CPU with constant : 0.007003 kWh, power : 1680.0 W\n",
      "[codecarbon INFO @ 16:05:57] Energy consumed for All CPU : 0.056035 kWh\n",
      "[codecarbon INFO @ 16:05:57] Energy consumed for all GPUs : 0.000188 kWh. Total GPU Power : 5.578749821636295 W\n",
      "[codecarbon INFO @ 16:05:57] 0.056890 kWh of electricity used since the beginning.\n",
      "[codecarbon INFO @ 16:05:57] 0.137751 g.CO2eq/s mean an estimation of 4,344.113129226963 kg.CO2eq/year\n",
      "[codecarbon INFO @ 16:05:59] Energy consumed for RAM : 0.000250 kWh. RAM Power : 20.0 W\n",
      "[codecarbon INFO @ 16:05:59] Delta energy consumed for CPU with constant : 0.007006 kWh, power : 1680.0 W\n",
      "[codecarbon INFO @ 16:05:59] Energy consumed for All CPU : 0.021013 kWh\n",
      "[codecarbon INFO @ 16:05:59] Energy consumed for all GPUs : 0.000069 kWh. Total GPU Power : 5.667943756478628 W\n",
      "[codecarbon INFO @ 16:05:59] 0.021332 kWh of electricity used since the beginning.\n",
      "[codecarbon INFO @ 16:06:12] Energy consumed for RAM : 0.000750 kWh. RAM Power : 20.0 W\n",
      "[codecarbon INFO @ 16:06:12] Delta energy consumed for CPU with constant : 0.007002 kWh, power : 1680.0 W\n",
      "[codecarbon INFO @ 16:06:12] Energy consumed for All CPU : 0.063037 kWh\n",
      "[codecarbon INFO @ 16:06:12] Energy consumed for all GPUs : 0.000211 kWh. Total GPU Power : 5.504791281222103 W\n",
      "[codecarbon INFO @ 16:06:12] 0.063998 kWh of electricity used since the beginning.\n",
      "[codecarbon INFO @ 16:06:14] Energy consumed for RAM : 0.000333 kWh. RAM Power : 20.0 W\n",
      "[codecarbon INFO @ 16:06:14] Delta energy consumed for CPU with constant : 0.007000 kWh, power : 1680.0 W\n",
      "[codecarbon INFO @ 16:06:14] Energy consumed for All CPU : 0.028014 kWh\n",
      "[codecarbon INFO @ 16:06:14] Energy consumed for all GPUs : 0.000092 kWh. Total GPU Power : 5.450859026272929 W\n",
      "[codecarbon INFO @ 16:06:14] 0.028439 kWh of electricity used since the beginning.\n"
     ]
    }
   ],
   "source": [
    "from codecarbon import EmissionsTracker\n",
    "tracker = EmissionsTracker()\n",
    "tracker.start()\n",
    "svm.predict(X_test_scaled[:1])\n",
    "emissions_svm = tracker.stop()\n",
    "print(f\"Emissions for Random Forest: {emissions_svm} kg CO2\")"
   ]
  }
 ],
 "metadata": {
  "kernelspec": {
   "display_name": "Python 3 (ipykernel)",
   "language": "python",
   "name": "python3"
  },
  "language_info": {
   "codemirror_mode": {
    "name": "ipython",
    "version": 3
   },
   "file_extension": ".py",
   "mimetype": "text/x-python",
   "name": "python",
   "nbconvert_exporter": "python",
   "pygments_lexer": "ipython3",
   "version": "3.12.3"
  }
 },
 "nbformat": 4,
 "nbformat_minor": 5
}
