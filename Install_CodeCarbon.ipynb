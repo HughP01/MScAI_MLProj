{
 "cells": [
  {
   "cell_type": "code",
   "execution_count": 1,
   "id": "b62c2fc1-0fcd-4f36-ac48-498286aed226",
   "metadata": {},
   "outputs": [],
   "source": [
    "#Update code"
   ]
  },
  {
   "cell_type": "code",
   "execution_count": 11,
   "id": "ce9ed81f-4dc4-4405-9972-ebb36f6c3a4a",
   "metadata": {},
   "outputs": [
    {
     "name": "stdout",
     "output_type": "stream",
     "text": [
      "E:\\Python\\envs\\tf_2_10\\python.exe\n"
     ]
    }
   ],
   "source": [
    "import sys\n",
    "print(sys.executable)"
   ]
  },
  {
   "cell_type": "code",
   "execution_count": 13,
   "id": "77a65a8b-8788-458f-a93e-b214adf6cbfa",
   "metadata": {},
   "outputs": [],
   "source": [
    "#CodeCarbon Test\n",
    "import numpy as np\n",
    "import tensorflow as tf\n",
    "from tensorflow.keras.datasets import mnist\n",
    "from tensorflow.keras.utils import to_categorical\n",
    "from tensorflow.keras.models import Sequential\n",
    "from tensorflow.keras.layers import Dense, Flatten\n",
    "from tqdm import tqdm"
   ]
  },
  {
   "cell_type": "code",
   "execution_count": 14,
   "id": "57246049-a483-42f6-ad53-53dc1f92ec89",
   "metadata": {},
   "outputs": [],
   "source": [
    "# Load MNIST dataset\n",
    "(x_train, y_train), (x_test, y_test) = mnist.load_data()\n",
    "\n",
    "# Normalize pixel values to [0, 1]\n",
    "x_train = x_train / 255.0\n",
    "x_test = x_test / 255.0\n",
    "\n",
    "# Convert labels to one-hot encoding\n",
    "y_train = to_categorical(y_train)\n",
    "y_test = to_categorical(y_test)"
   ]
  },
  {
   "cell_type": "code",
   "execution_count": 16,
   "id": "ea070893-2ebe-4dda-a1ee-e6980b123b69",
   "metadata": {},
   "outputs": [
    {
     "name": "stdout",
     "output_type": "stream",
     "text": [
      "WARNING:tensorflow:`input_shape` is undefined or non-square, or `rows` is not in [96, 128, 160, 192, 224]. Weights for input shape (224, 224) will be loaded as the default.\n",
      "Downloading data from https://storage.googleapis.com/tensorflow/keras-applications/mobilenet_v2/mobilenet_v2_weights_tf_dim_ordering_tf_kernels_1.0_224_no_top.h5\n",
      "9406464/9406464 [==============================] - 7s 1us/step\n",
      "Model: \"sequential\"\n",
      "_________________________________________________________________\n",
      " Layer (type)                Output Shape              Param #   \n",
      "=================================================================\n",
      " resizing (Resizing)         (None, 32, 32, 1)         0         \n",
      "                                                                 \n",
      " conv2d (Conv2D)             (None, 32, 32, 3)         30        \n",
      "                                                                 \n",
      " mobilenetv2_1.00_224 (Funct  (None, 1, 1, 1280)       2257984   \n",
      " ional)                                                          \n",
      "                                                                 \n",
      " flatten (Flatten)           (None, 1280)              0         \n",
      "                                                                 \n",
      " dense (Dense)               (None, 128)               163968    \n",
      "                                                                 \n",
      " dense_1 (Dense)             (None, 10)                1290      \n",
      "                                                                 \n",
      "=================================================================\n",
      "Total params: 2,423,272\n",
      "Trainable params: 2,389,160\n",
      "Non-trainable params: 34,112\n",
      "_________________________________________________________________\n",
      "Epoch 1/5\n",
      "1875/1875 [==============================] - 59s 24ms/step - loss: 0.2902 - accuracy: 0.9244 - val_loss: 0.3662 - val_accuracy: 0.9027\n",
      "Epoch 2/5\n",
      "1875/1875 [==============================] - 42s 23ms/step - loss: 0.1329 - accuracy: 0.9664 - val_loss: 0.2560 - val_accuracy: 0.9444\n",
      "Epoch 3/5\n",
      "1875/1875 [==============================] - 43s 23ms/step - loss: 0.1068 - accuracy: 0.9736 - val_loss: 0.2206 - val_accuracy: 0.9602\n",
      "Epoch 4/5\n",
      "1875/1875 [==============================] - 45s 24ms/step - loss: 0.1033 - accuracy: 0.9754 - val_loss: 0.1172 - val_accuracy: 0.9783\n",
      "Epoch 5/5\n",
      "1875/1875 [==============================] - 45s 24ms/step - loss: 0.0801 - accuracy: 0.9799 - val_loss: 1.8566 - val_accuracy: 0.9008\n"
     ]
    },
    {
     "data": {
      "text/plain": [
       "<keras.callbacks.History at 0x2052d23cc10>"
      ]
     },
     "execution_count": 16,
     "metadata": {},
     "output_type": "execute_result"
    }
   ],
   "source": [
    "# Load pre-trained model\n",
    "base_model = tf.keras.applications.MobileNetV2(\n",
    "    input_shape=(32, 32, 3),\n",
    "    include_top=False,\n",
    "    weights='imagenet'\n",
    ")\n",
    "\n",
    "# Fine-tune the model\n",
    "model = Sequential([\n",
    "    tf.keras.layers.Resizing(32, 32, input_shape=(28, 28, 1)),\n",
    "    tf.keras.layers.Conv2D(3, (3, 3), padding='same'),\n",
    "    base_model,\n",
    "    Flatten(),\n",
    "    Dense(128, activation='relu'),\n",
    "    Dense(10, activation='softmax')\n",
    "])\n",
    "\n",
    "model.compile(\n",
    "    optimizer='adam',\n",
    "    loss='categorical_crossentropy',\n",
    "    metrics=['accuracy']\n",
    ")\n",
    "\n",
    "model.summary()\n",
    "\n",
    "model.fit(\n",
    "    x_train, y_train,\n",
    "    epochs=5,\n",
    "    validation_data=(x_test, y_test))"
   ]
  },
  {
   "cell_type": "code",
   "execution_count": 17,
   "id": "15b2de51-1c37-4e7a-8ef3-6b6f13635ecc",
   "metadata": {},
   "outputs": [
    {
     "name": "stdout",
     "output_type": "stream",
     "text": [
      "1875/1875 [==============================] - 15s 8ms/step\n",
      "Model: \"sequential_1\"\n",
      "_________________________________________________________________\n",
      " Layer (type)                Output Shape              Param #   \n",
      "=================================================================\n",
      " flatten_1 (Flatten)         (None, 784)               0         \n",
      "                                                                 \n",
      " dense_2 (Dense)             (None, 128)               100480    \n",
      "                                                                 \n",
      " dense_3 (Dense)             (None, 10)                1290      \n",
      "                                                                 \n",
      "=================================================================\n",
      "Total params: 101,770\n",
      "Trainable params: 101,770\n",
      "Non-trainable params: 0\n",
      "_________________________________________________________________\n"
     ]
    }
   ],
   "source": [
    "# Get teacher model predictions\n",
    "teacher_predictions = model.predict(x_train)\n",
    "\n",
    "# Create TensorFlow Dataset for training data and teacher predictions\n",
    "train_dataset = tf.data.Dataset.from_tensor_slices((x_train, y_train)).batch(32)\n",
    "teacher_predictions_dataset = tf.data.Dataset.from_tensor_slices(\n",
    "    teacher_predictions).batch(32)\n",
    "\n",
    "# Combine the two datasets into one\n",
    "train_dataset_with_teacher_preds = tf.data.Dataset.zip(\n",
    "    (train_dataset, teacher_predictions_dataset))\n",
    "\n",
    "# Define the student model\n",
    "student_model = Sequential([\n",
    "    Flatten(input_shape=(28, 28)),\n",
    "    Dense(128, activation='relu'),\n",
    "    Dense(10, activation='softmax')\n",
    "])\n",
    "\n",
    "student_model.compile(\n",
    "    optimizer='adam',\n",
    "    loss='categorical_crossentropy',\n",
    "    metrics=['accuracy']\n",
    ")\n",
    "\n",
    "student_model.summary()"
   ]
  },
  {
   "cell_type": "code",
   "execution_count": 18,
   "id": "654fe24e-1d3b-426c-8d7d-4cf48127e3fe",
   "metadata": {},
   "outputs": [
    {
     "name": "stderr",
     "output_type": "stream",
     "text": [
      "[codecarbon WARNING @ 10:42:39] Multiple instances of codecarbon are allowed to run at the same time.\n",
      "[codecarbon INFO @ 10:42:39] [setup] RAM Tracking...\n",
      "[codecarbon INFO @ 10:42:39] [setup] CPU Tracking...\n",
      "[codecarbon WARNING @ 10:42:41] No CPU tracking mode found. Falling back on estimation based on TDP for CPU. \n",
      " Windows OS detected: Please install Intel Power Gadget to measure CPU\n",
      "\n",
      "[codecarbon INFO @ 10:42:41] CPU Model on constant consumption mode: AMD Ryzen 9 5900XT 16-Core Processor\n",
      "[codecarbon WARNING @ 10:42:41] No CPU tracking mode found. Falling back on CPU constant mode.\n",
      "[codecarbon INFO @ 10:42:41] [setup] GPU Tracking...\n",
      "[codecarbon INFO @ 10:42:41] Tracking Nvidia GPU via pynvml\n",
      "[codecarbon INFO @ 10:42:41] The below tracking methods have been set up:\n",
      "                RAM Tracking Method: RAM power estimation model\n",
      "                CPU Tracking Method: global constant\n",
      "                GPU Tracking Method: pynvml\n",
      "            \n",
      "[codecarbon INFO @ 10:42:41] >>> Tracker's metadata:\n",
      "[codecarbon INFO @ 10:42:41]   Platform system: Windows-10-10.0.19045-SP0\n",
      "[codecarbon INFO @ 10:42:41]   Python version: 3.10.11\n",
      "[codecarbon INFO @ 10:42:41]   CodeCarbon version: 3.0.4\n",
      "[codecarbon INFO @ 10:42:41]   Available RAM : 63.927 GB\n",
      "[codecarbon INFO @ 10:42:41]   CPU count: 32 thread(s) in 32 physical CPU(s)\n",
      "[codecarbon INFO @ 10:42:41]   CPU model: AMD Ryzen 9 5900XT 16-Core Processor\n",
      "[codecarbon INFO @ 10:42:41]   GPU count: 1\n",
      "[codecarbon INFO @ 10:42:41]   GPU model: 1 x NVIDIA GeForce RTX 4060 Ti\n",
      "[codecarbon WARNING @ 10:42:45] Unable to access geographical location through primary API. Will resort to using the backup API - Exception : HTTPSConnectionPool(host='get.geojs.io', port=443): Read timed out. (read timeout=0.5) - url=https://get.geojs.io/v1/ip/geo.json\n",
      "[codecarbon WARNING @ 10:42:45] Unable to access geographical location. Using 'Canada' as the default value - Exception : 'country' - url=https://get.geojs.io/v1/ip/geo.json\n",
      "[codecarbon INFO @ 10:42:45] Emissions data (if any) will be saved to file E:\\Emerging AI Tech and Sustainability\\emissions.csv\n"
     ]
    },
    {
     "name": "stdout",
     "output_type": "stream",
     "text": [
      "313/313 [==============================] - 3s 11ms/step - loss: 1.8566 - accuracy: 0.9008\n"
     ]
    },
    {
     "name": "stderr",
     "output_type": "stream",
     "text": [
      "[codecarbon INFO @ 10:42:49] Energy consumed for RAM : 0.000019 kWh. RAM Power : 20.0 W\n",
      "[codecarbon INFO @ 10:42:49] Delta energy consumed for CPU with constant : 0.001602 kWh, power : 1680.0 W\n",
      "[codecarbon INFO @ 10:42:49] Energy consumed for All CPU : 0.001602 kWh\n",
      "[codecarbon INFO @ 10:42:49] Energy consumed for all GPUs : 0.000015 kWh. Total GPU Power : 15.7559409623872 W\n",
      "[codecarbon INFO @ 10:42:49] 0.001636 kWh of electricity used since the beginning.\n",
      "[codecarbon WARNING @ 10:42:49] Multiple instances of codecarbon are allowed to run at the same time.\n",
      "[codecarbon INFO @ 10:42:49] [setup] RAM Tracking...\n",
      "[codecarbon INFO @ 10:42:49] [setup] CPU Tracking...\n",
      "[codecarbon WARNING @ 10:42:50] No CPU tracking mode found. Falling back on estimation based on TDP for CPU. \n",
      " Windows OS detected: Please install Intel Power Gadget to measure CPU\n",
      "\n",
      "[codecarbon INFO @ 10:42:50] CPU Model on constant consumption mode: AMD Ryzen 9 5900XT 16-Core Processor\n",
      "[codecarbon WARNING @ 10:42:50] No CPU tracking mode found. Falling back on CPU constant mode.\n",
      "[codecarbon INFO @ 10:42:50] [setup] GPU Tracking...\n",
      "[codecarbon INFO @ 10:42:50] Tracking Nvidia GPU via pynvml\n",
      "[codecarbon INFO @ 10:42:50] The below tracking methods have been set up:\n",
      "                RAM Tracking Method: RAM power estimation model\n",
      "                CPU Tracking Method: global constant\n",
      "                GPU Tracking Method: pynvml\n",
      "            \n",
      "[codecarbon INFO @ 10:42:50] >>> Tracker's metadata:\n",
      "[codecarbon INFO @ 10:42:50]   Platform system: Windows-10-10.0.19045-SP0\n",
      "[codecarbon INFO @ 10:42:50]   Python version: 3.10.11\n",
      "[codecarbon INFO @ 10:42:50]   CodeCarbon version: 3.0.4\n",
      "[codecarbon INFO @ 10:42:50]   Available RAM : 63.927 GB\n",
      "[codecarbon INFO @ 10:42:50]   CPU count: 32 thread(s) in 32 physical CPU(s)\n",
      "[codecarbon INFO @ 10:42:50]   CPU model: AMD Ryzen 9 5900XT 16-Core Processor\n",
      "[codecarbon INFO @ 10:42:50]   GPU count: 1\n",
      "[codecarbon INFO @ 10:42:50]   GPU model: 1 x NVIDIA GeForce RTX 4060 Ti\n",
      "[codecarbon WARNING @ 10:42:54] Unable to access geographical location through primary API. Will resort to using the backup API - Exception : HTTPSConnectionPool(host='get.geojs.io', port=443): Read timed out. (read timeout=0.5) - url=https://get.geojs.io/v1/ip/geo.json\n",
      "[codecarbon WARNING @ 10:42:55] Unable to access geographical location. Using 'Canada' as the default value - Exception : 'country' - url=https://get.geojs.io/v1/ip/geo.json\n",
      "[codecarbon INFO @ 10:42:55] Emissions data (if any) will be saved to file E:\\Emerging AI Tech and Sustainability\\emissions.csv\n"
     ]
    },
    {
     "name": "stdout",
     "output_type": "stream",
     "text": [
      "313/313 [==============================] - 1s 3ms/step - loss: 2.4318 - accuracy: 0.0713\n"
     ]
    },
    {
     "name": "stderr",
     "output_type": "stream",
     "text": [
      "[codecarbon INFO @ 10:42:56] Energy consumed for RAM : 0.000007 kWh. RAM Power : 20.0 W\n",
      "[codecarbon INFO @ 10:42:56] Delta energy consumed for CPU with constant : 0.000560 kWh, power : 1680.0 W\n",
      "[codecarbon INFO @ 10:42:56] Energy consumed for All CPU : 0.000560 kWh\n",
      "[codecarbon INFO @ 10:42:56] Energy consumed for all GPUs : 0.000004 kWh. Total GPU Power : 10.53593594156005 W\n",
      "[codecarbon INFO @ 10:42:56] 0.000570 kWh of electricity used since the beginning.\n"
     ]
    },
    {
     "name": "stdout",
     "output_type": "stream",
     "text": [
      "Emissions for transfer learning: 3.890286553768168e-06 kg CO2\n",
      "Emissions for knowledge distillation: 1.3544507325187316e-06 kg CO2\n"
     ]
    }
   ],
   "source": [
    "from codecarbon import EmissionsTracker\n",
    "\n",
    "# Measure emissions for transfer learning model inference\n",
    "tracker = EmissionsTracker()\n",
    "tracker.start()\n",
    "model.evaluate(x_test, y_test)\n",
    "emissions_transfer_learning = tracker.stop()\n",
    "\n",
    "# Measure emissions for knowledge distillation model inference\n",
    "tracker = EmissionsTracker()\n",
    "tracker.start()\n",
    "student_model.evaluate(x_test, y_test)\n",
    "emissions_knowledge_distillation = tracker.stop()\n",
    "\n",
    "print(f\"Emissions for transfer learning: {emissions_transfer_learning} kg CO2\")\n",
    "print(f\"Emissions for knowledge distillation: {emissions_knowledge_distillation} kg CO2\")"
   ]
  }
 ],
 "metadata": {
  "kernelspec": {
   "display_name": "tf_2_10",
   "language": "python",
   "name": "tf_2_10"
  },
  "language_info": {
   "codemirror_mode": {
    "name": "ipython",
    "version": 3
   },
   "file_extension": ".py",
   "mimetype": "text/x-python",
   "name": "python",
   "nbconvert_exporter": "python",
   "pygments_lexer": "ipython3",
   "version": "3.10.11"
  }
 },
 "nbformat": 4,
 "nbformat_minor": 5
}
